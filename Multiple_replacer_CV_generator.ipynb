{
 "cells": [
  {
   "cell_type": "code",
   "execution_count": 14,
   "metadata": {},
   "outputs": [],
   "source": [
    "import pandas as pds\n",
    "import os"
   ]
  },
  {
   "cell_type": "code",
   "execution_count": 15,
   "metadata": {},
   "outputs": [],
   "source": [
    "excel_data_sheet = 'check.xlsx'\n",
    "latexfile_template_name = 'check.tex'\n",
    "\n",
    "\n",
    "newdata = pds.read_excel(excel_data_sheet)\n",
    "search_sheet = list(newdata.columns.values)"
   ]
  },
  {
   "cell_type": "code",
   "execution_count": 16,
   "metadata": {},
   "outputs": [],
   "source": [
    "# Storing the location of the word in dictonary where we have to change\n",
    "\n",
    "location_dic = {}\n",
    "data_sheet = {}\n",
    "\n",
    "\n",
    "# reading the latex file as string\n",
    "\n",
    "with open(latexfile_template_name,'r') as file:\n",
    "    data = file.read()\n",
    "\n",
    "\n",
    "for i in range(0,newdata.shape[0]):\n",
    "    k = 0\n",
    "    new_values = list(newdata.values[i])\n",
    "    for ele in search_sheet:\n",
    "        start_from = 0\n",
    "        loc = data.find(ele, start_from)\n",
    "        while loc != -1:\n",
    "            start_from = loc\n",
    "            location_dic[loc] = ele\n",
    "            data_sheet[loc] = new_values[k]\n",
    "            start_from = loc+1\n",
    "            loc = data.find(ele, start_from)\n",
    "        k+=1\n",
    "\n",
    "        \n",
    "#   sorting the search indexes of the data got by excel sheet\n",
    "\n",
    "    data_sheet_list = sorted(data_sheet.items())\n",
    "    location_list = sorted(location_dic.items())\n",
    "\n",
    "    \n",
    "#   Writing the new tex file strings\n",
    "\n",
    "    j = 0\n",
    "    write_new_tex = \"\"\n",
    "    delete = 0\n",
    "    for value,key in data_sheet_list:\n",
    "        if(value != -1):\n",
    "            write_new_tex += data[delete:value]\n",
    "            write_new_tex+=str(key)\n",
    "            delete = value+ len(location_list[j][1])\n",
    "        j+=1\n",
    "    write_new_tex+=data[delete:]\n",
    "\n",
    "    # Writing the tex file\n",
    "\n",
    "    with open(f\"resume_{newdata.values[i][0]}.tex\",'w') as file:\n",
    "        file.write(write_new_tex)\n",
    "\n",
    "\n",
    "    #  compiling the tex file to generate the cv\n",
    "    import os\n",
    "    os.system(f\"pdflatex resume_{newdata.values[i][0]}.tex\")"
   ]
  },
  {
   "cell_type": "code",
   "execution_count": null,
   "metadata": {},
   "outputs": [],
   "source": []
  }
 ],
 "metadata": {
  "kernelspec": {
   "display_name": "Python 3",
   "language": "python",
   "name": "python3"
  },
  "language_info": {
   "codemirror_mode": {
    "name": "ipython",
    "version": 3
   },
   "file_extension": ".py",
   "mimetype": "text/x-python",
   "name": "python",
   "nbconvert_exporter": "python",
   "pygments_lexer": "ipython3",
   "version": "3.8.5"
  }
 },
 "nbformat": 4,
 "nbformat_minor": 4
}
